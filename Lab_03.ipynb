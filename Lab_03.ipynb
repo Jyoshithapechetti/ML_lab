{
 "cells": [
  {
   "cell_type": "code",
   "execution_count": 50,
   "id": "d8a29464",
   "metadata": {},
   "outputs": [
    {
     "data": {
      "text/html": [
       "<div>\n",
       "<style scoped>\n",
       "    .dataframe tbody tr th:only-of-type {\n",
       "        vertical-align: middle;\n",
       "    }\n",
       "\n",
       "    .dataframe tbody tr th {\n",
       "        vertical-align: top;\n",
       "    }\n",
       "\n",
       "    .dataframe thead th {\n",
       "        text-align: right;\n",
       "    }\n",
       "</style>\n",
       "<table border=\"1\" class=\"dataframe\">\n",
       "  <thead>\n",
       "    <tr style=\"text-align: right;\">\n",
       "      <th></th>\n",
       "      <th>Date</th>\n",
       "      <th>Month</th>\n",
       "      <th>Day</th>\n",
       "      <th>Price</th>\n",
       "      <th>Open</th>\n",
       "      <th>High</th>\n",
       "      <th>Low</th>\n",
       "      <th>Volume</th>\n",
       "      <th>Chg%</th>\n",
       "    </tr>\n",
       "  </thead>\n",
       "  <tbody>\n",
       "    <tr>\n",
       "      <th>0</th>\n",
       "      <td>Jun 29, 2021</td>\n",
       "      <td>Jun</td>\n",
       "      <td>Tue</td>\n",
       "      <td>2081.85</td>\n",
       "      <td>2092.00</td>\n",
       "      <td>2126.90</td>\n",
       "      <td>2065.05</td>\n",
       "      <td>1.67M</td>\n",
       "      <td>0.0020</td>\n",
       "    </tr>\n",
       "    <tr>\n",
       "      <th>1</th>\n",
       "      <td>Jun 28, 2021</td>\n",
       "      <td>Jun</td>\n",
       "      <td>Mon</td>\n",
       "      <td>2077.75</td>\n",
       "      <td>2084.00</td>\n",
       "      <td>2112.45</td>\n",
       "      <td>2068.40</td>\n",
       "      <td>707.73K</td>\n",
       "      <td>0.0043</td>\n",
       "    </tr>\n",
       "    <tr>\n",
       "      <th>2</th>\n",
       "      <td>Jun 25, 2021</td>\n",
       "      <td>Jun</td>\n",
       "      <td>Fri</td>\n",
       "      <td>2068.85</td>\n",
       "      <td>2084.35</td>\n",
       "      <td>2088.50</td>\n",
       "      <td>2053.10</td>\n",
       "      <td>475.82K</td>\n",
       "      <td>-0.0020</td>\n",
       "    </tr>\n",
       "    <tr>\n",
       "      <th>3</th>\n",
       "      <td>Jun 24, 2021</td>\n",
       "      <td>Jun</td>\n",
       "      <td>Thu</td>\n",
       "      <td>2072.95</td>\n",
       "      <td>2098.00</td>\n",
       "      <td>2098.00</td>\n",
       "      <td>2066.00</td>\n",
       "      <td>541.51K</td>\n",
       "      <td>-0.0026</td>\n",
       "    </tr>\n",
       "    <tr>\n",
       "      <th>4</th>\n",
       "      <td>Jun 23, 2021</td>\n",
       "      <td>Jun</td>\n",
       "      <td>Wed</td>\n",
       "      <td>2078.25</td>\n",
       "      <td>2102.00</td>\n",
       "      <td>2111.40</td>\n",
       "      <td>2072.00</td>\n",
       "      <td>809.62K</td>\n",
       "      <td>-0.0023</td>\n",
       "    </tr>\n",
       "  </tbody>\n",
       "</table>\n",
       "</div>"
      ],
      "text/plain": [
       "           Date Month  Day    Price     Open     High      Low   Volume  \\\n",
       "0  Jun 29, 2021   Jun  Tue  2081.85  2092.00  2126.90  2065.05    1.67M   \n",
       "1  Jun 28, 2021   Jun  Mon  2077.75  2084.00  2112.45  2068.40  707.73K   \n",
       "2  Jun 25, 2021   Jun  Fri  2068.85  2084.35  2088.50  2053.10  475.82K   \n",
       "3  Jun 24, 2021   Jun  Thu  2072.95  2098.00  2098.00  2066.00  541.51K   \n",
       "4  Jun 23, 2021   Jun  Wed  2078.25  2102.00  2111.40  2072.00  809.62K   \n",
       "\n",
       "     Chg%  \n",
       "0  0.0020  \n",
       "1  0.0043  \n",
       "2 -0.0020  \n",
       "3 -0.0026  \n",
       "4 -0.0023  "
      ]
     },
     "execution_count": 50,
     "metadata": {},
     "output_type": "execute_result"
    }
   ],
   "source": [
    "import pandas as pd\n",
    "import numpy as np\n",
    "file_path = 'Lab Session Data.xlsx'\n",
    "df = pd.read_excel(file_path, sheet_name='IRCTC Stock Price')\n",
    "df.head()"
   ]
  },
  {
   "cell_type": "code",
   "execution_count": 51,
   "id": "2d12158e",
   "metadata": {},
   "outputs": [
    {
     "name": "stdout",
     "output_type": "stream",
     "text": [
      "Mean = 1560.6634538152612\n",
      "Variance =  58732.36535253922\n",
      "Mean Price on Wednesdays: 1550.7060000000001\n"
     ]
    }
   ],
   "source": [
    "mean_price_population=df['Price'].mean()\n",
    "print(f\"Mean = {mean_price_population}\")\n",
    "print('Variance = ', df['Price'].var())\n",
    "\n",
    "#extracting all wednesdays\n",
    "wed_df = df[df['Day'] == 'Wed']\n",
    "\n",
    "# Calculate the mean of the 'Price' column for the filtered DataFrame\n",
    "mean_price_wed = wed_df['Price'].mean()\n",
    "\n",
    "# Display the result\n",
    "print(f\"Mean Price on Wednesdays: {mean_price_wed}\")"
   ]
  },
  {
   "cell_type": "code",
   "execution_count": 52,
   "id": "5cea3f7d",
   "metadata": {},
   "outputs": [
    {
     "name": "stdout",
     "output_type": "stream",
     "text": [
      "The mean price on Wednesdays is lower than the overall population mean price.\n"
     ]
    }
   ],
   "source": [
    "#Comparing population and wednesday mean\n",
    "if mean_price_wed > mean_price_population:\n",
    "    print(\"The mean price on Wednesdays is higher than the overall population mean price.\")\n",
    "elif mean_price_wed < mean_price_population:\n",
    "    print(\"The mean price on Wednesdays is lower than the overall population mean price.\")\n",
    "else:\n",
    "    print(\"The mean price on Wednesdays is equal to the overall population mean price.\")"
   ]
  },
  {
   "cell_type": "code",
   "execution_count": 55,
   "id": "4e3f7329",
   "metadata": {},
   "outputs": [
    {
     "name": "stdout",
     "output_type": "stream",
     "text": [
      "Mean Price of Month April: 1698.9526315789474\n"
     ]
    }
   ],
   "source": [
    "#extracting all wednesdays\n",
    "wed_df = df[df['Month'] == 'Apr']\n",
    "\n",
    "# Calculate the mean of the 'Price' column for the filtered DataFrame\n",
    "mean_price_apr = wed_df['Price'].mean()\n",
    "\n",
    "# Display the result\n",
    "print(f\"Mean Price of Month April: {mean_price_apr}\")"
   ]
  },
  {
   "cell_type": "code",
   "execution_count": 56,
   "id": "4630fde7",
   "metadata": {},
   "outputs": [
    {
     "name": "stdout",
     "output_type": "stream",
     "text": [
      "The mean price of april is higher than the overall population mean price.\n"
     ]
    }
   ],
   "source": [
    "if mean_price_apr > mean_price_population:\n",
    "    print(\"The mean price of april is higher than the overall population mean price.\")\n",
    "elif mean_price_apr < mean_price_population:\n",
    "    print(\"The mean price of april is lower than the overall population mean price.\")\n",
    "else:\n",
    "    print(\"The mean price of april is equal to the overall population mean price.\")"
   ]
  },
  {
   "cell_type": "code",
   "execution_count": 58,
   "id": "426ea1ba",
   "metadata": {},
   "outputs": [
    {
     "name": "stdout",
     "output_type": "stream",
     "text": [
      "Probability of making a loss: 0.4979919678714859\n"
     ]
    }
   ],
   "source": [
    "# Extract the 'Chg%' column and ensure it contains only numeric data\n",
    "chg_percent = pd.to_numeric(df['Chg%'])\n",
    "\n",
    "# Drop any rows with NaN values\n",
    "chg_percent = chg_percent.dropna()\n",
    "\n",
    "# Find the number of negative values using a lambda function\n",
    "num_losses = chg_percent.apply(lambda x: x < 0).sum()\n",
    "\n",
    "# Calculate the total number of entries in the 'Chg%' column\n",
    "total_entries = len(chg_percent)\n",
    "\n",
    "# Calculate the probability of making a loss\n",
    "probability_of_loss = num_losses / total_entries\n",
    "\n",
    "# Display the result\n",
    "print(f\"Probability of making a loss: {probability_of_loss}\")"
   ]
  },
  {
   "cell_type": "code",
   "execution_count": 62,
   "id": "aa4776fe",
   "metadata": {},
   "outputs": [
    {
     "name": "stdout",
     "output_type": "stream",
     "text": [
      "Probability of making a profit on Wednesdays: 0.5789473684210527\n"
     ]
    }
   ],
   "source": [
    "# Extract the 'Chg%' column and ensure it contains only numeric data\n",
    "chg_percent_wed = pd.to_numeric(wed_df['Chg%'], errors='coerce')\n",
    "\n",
    "# Drop any rows with NaN values\n",
    "chg_percent_wed = chg_percent_wed.dropna()\n",
    "\n",
    "# Find the number of positive values using a lambda function\n",
    "num_profits = chg_percent_wed.apply(lambda x: x > 0).sum()\n",
    "\n",
    "# Calculate the total number of entries in the 'Chg%' column for Wednesdays\n",
    "total_entries_wed = len(chg_percent_wed)\n",
    "\n",
    "# Calculate the probability of making a profit on Wednesdays\n",
    "if total_entries_wed > 0:\n",
    "    probability_of_profit_wed = num_profits / total_entries_wed\n",
    "else:\n",
    "    probability_of_profit_wed = 0\n",
    "\n",
    "# Display the result\n",
    "print(f\"Probability of making a profit on Wednesdays: {probability_of_profit_wed}\")\n"
   ]
  },
  {
   "cell_type": "code",
   "execution_count": 65,
   "id": "602c917a",
   "metadata": {},
   "outputs": [
    {
     "name": "stdout",
     "output_type": "stream",
     "text": [
      "Probability of making a profit on Wednesdays: 0\n"
     ]
    }
   ],
   "source": [
    "# Find the number of positive values using a lambda function\n",
    "num_profits_wed = chg_percent_wed.apply(lambda x: x > 0).sum()\n",
    "\n",
    "# Calculate the total number of entries in the 'Chg%' column for Wednesdays\n",
    "total_entries_wed = len(chg_percent_wed)\n",
    "\n",
    "# Calculate the conditional probability of making a profit on Wednesdays\n",
    "if total_entries_wed > 0:\n",
    "    probability_of_profit_wed = num_profits_wed / total_entries_wed\n",
    "else:\n",
    "    probability_of_profit_wed = 0\n",
    "\n",
    "# Display the result\n",
    "print(f\"Probability of making a profit on Wednesdays: {probability_of_profit_wed}\")\n"
   ]
  },
  {
   "cell_type": "code",
   "execution_count": null,
   "id": "f4dfa40b",
   "metadata": {},
   "outputs": [],
   "source": []
  },
  {
   "cell_type": "code",
   "execution_count": null,
   "id": "42b0b9a2",
   "metadata": {},
   "outputs": [],
   "source": []
  },
  {
   "cell_type": "code",
   "execution_count": null,
   "id": "99b6545a",
   "metadata": {},
   "outputs": [],
   "source": []
  }
 ],
 "metadata": {
  "kernelspec": {
   "display_name": "Python 3 (ipykernel)",
   "language": "python",
   "name": "python3"
  },
  "language_info": {
   "codemirror_mode": {
    "name": "ipython",
    "version": 3
   },
   "file_extension": ".py",
   "mimetype": "text/x-python",
   "name": "python",
   "nbconvert_exporter": "python",
   "pygments_lexer": "ipython3",
   "version": "3.11.5"
  }
 },
 "nbformat": 4,
 "nbformat_minor": 5
}
